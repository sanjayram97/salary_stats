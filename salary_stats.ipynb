{
 "cells": [
  {
   "cell_type": "code",
   "execution_count": 1,
   "id": "170424d0",
   "metadata": {},
   "outputs": [],
   "source": [
    "import pandas as pd\n",
    "import numpy as np\n",
    "import re\n",
    "\n",
    "# Utils\n",
    "def split_sal_freq(x):\n",
    "    curr = x[0]\n",
    "    sal = int(x[1:].split('/')[0].replace(',',''))\n",
    "    freq = x[1:].split('/')[1]\n",
    "    return pd.Series([curr, sal, freq])\n",
    "\n",
    "def get_monthly_sal(x):\n",
    "    if x['freq'] == 'hr':\n",
    "        return x['Sal'] * 24 * 30 * 12\n",
    "    elif x['freq'] == 'mo':\n",
    "        return x['Sal'] * 12\n",
    "    else:\n",
    "        return x['Sal']\n",
    "    \n",
    "def preprocess_string(x):\n",
    "    x = x.lower()\n",
    "    x = re.sub(r'[^\\w\\s]', '', x)\n",
    "    x = x.replace(' ','')\n",
    "    return x"
   ]
  },
  {
   "cell_type": "code",
   "execution_count": 2,
   "id": "5e3f9c10",
   "metadata": {},
   "outputs": [],
   "source": [
    "def fetch_preprocess_data():\n",
    "    # input dataset\n",
    "    print('Reading dataset')\n",
    "    df = pd.read_csv('data/Salary Dataset.csv')\n",
    "    df['Salaries Reported'] = df['Salaries Reported'].fillna(1)\n",
    "    df['Currency'] = df['Salary'].apply(lambda x: x[0])\n",
    "    df = df[df['Currency']=='₹']\n",
    "    df[['Currency','Sal','freq']] = df['Salary'].apply(split_sal_freq)\n",
    "    df['Tot_sal'] = df[['Sal','freq']].apply(lambda x: get_monthly_sal(x), axis=1)\n",
    "\n",
    "    ##### preprocess string\n",
    "    print('Preprocessing data')\n",
    "    df['Company Name'] = df['Company Name'].astype(str)\n",
    "    df['Job Title'] = df['Job Title'].astype(str)\n",
    "    df['Location'] = df['Location'].astype(str)\n",
    "\n",
    "    df['Company Name_preprocessed'] = df['Company Name'].apply(lambda x: preprocess_string(x))\n",
    "    df['Job Title_preprocessed'] = df['Job Title'].apply(lambda x: preprocess_string(x))\n",
    "    df['Location_preprocessed'] = df['Location'].apply(lambda x: preprocess_string(x))\n",
    "    \n",
    "    # Refactored job title\n",
    "    df_title = pd.read_csv('data/title_map.csv')\n",
    "    df_title_1 = df_title[['Job Title_preprocessed', 'title_map_1']]\n",
    "    df_title_1 = df_title_1.dropna()\n",
    "    df_title_2 = df_title[['Job Title_preprocessed', 'title_map_2']]\n",
    "    df_title_2 = df_title_2.dropna()\n",
    "\n",
    "    title_map_1 = df_title_1.set_index('Job Title_preprocessed').to_dict()['title_map_1']\n",
    "    title_map_2 = df_title_2.set_index('Job Title_preprocessed').to_dict()['title_map_2']\n",
    "\n",
    "    df_1 = df.copy()\n",
    "    df_2 = df.copy()\n",
    "\n",
    "    df_1['Job Title_preprocessed'] = df_1['Job Title_preprocessed'].map(title_map_1)\n",
    "    df_2['Job Title_preprocessed'] = df_2['Job Title_preprocessed'].map(title_map_2)\n",
    "\n",
    "    df = df_1.append(df_2, ignore_index=True)\n",
    "    df = df.dropna()\n",
    "    \n",
    "    # Refactored company name\n",
    "    df_company = pd.read_csv('data/company_map.csv')\n",
    "    df_company = df_company[['Company Name_preprocessed', 'company_map']]\n",
    "    df_company = df_company.dropna()\n",
    "    df_company = df_company.set_index('Company Name_preprocessed')\n",
    "    company_map = df_company.to_dict()['company_map']\n",
    "\n",
    "    df['Company Name_preprocessed'] = df['Company Name_preprocessed'].map(company_map)\n",
    "    df = df.dropna()\n",
    "    \n",
    "    # Total sum of salary = Tot_sal * Salaries reported\n",
    "    df['Tot_sal_sum'] = df['Tot_sal'] * df['Salaries Reported']\n",
    "\n",
    "    # Multiple aggregates\n",
    "    \n",
    "    df['Company_Title'] = df['Company Name_preprocessed'] + df['Job Title_preprocessed']\n",
    "    df['Location_Title'] = df['Location_preprocessed'] + df['Job Title_preprocessed']\n",
    "\n",
    "\n",
    "    ##### remove invalid companies and titles\n",
    "    print('Removing invalid companies and titles')\n",
    "    invalid_companies = ['---']\n",
    "    invalid_job_title = []\n",
    "    df = df[~df['Company Name'].isin(invalid_companies)]\n",
    "    df = df[~df['Job Title'].isin(invalid_job_title)]\n",
    "\n",
    "    print(' --------------------------------- ')\n",
    "    print('Total number of salaries reported  : ', sum(df['Salaries Reported']))\n",
    "    print('Total number of companies          : ', df['Company Name'].nunique())\n",
    "    print('Total number of job titles         : ', df['Job Title'].nunique())\n",
    "    print('Total number of locations          : ', df['Location'].nunique())\n",
    "    print(' --------------------------------- ')\n",
    "\n",
    "    print('Aggregating by company')\n",
    "    df_company_aggregates = df.groupby(['Company Name']).agg({'Tot_sal': ['mean', 'median', 'count']}).reset_index()\n",
    "    df_company_aggregates.columns = ['Company Name', 'mean', 'median', 'count']\n",
    "\n",
    "    print('Aggregating by title')\n",
    "    df_job_title_aggregates = df.groupby(['Job Title']).agg({'Tot_sal': ['mean', 'median', 'count']}).reset_index()\n",
    "    df_job_title_aggregates.columns = ['Job Title', 'mean', 'median', 'count']\n",
    "    print('Data exercise completed')\n",
    "    \n",
    "    return df, df_company_aggregates, df_job_title_aggregates"
   ]
  },
  {
   "cell_type": "code",
   "execution_count": 3,
   "id": "4f48ac18",
   "metadata": {},
   "outputs": [
    {
     "name": "stdout",
     "output_type": "stream",
     "text": [
      "Reading dataset\n",
      "Preprocessing data\n",
      "Removing invalid companies and titles\n",
      " --------------------------------- \n",
      "Total number of salaries reported  :  7005.0\n",
      "Total number of companies          :  1198\n",
      "Total number of job titles         :  18\n",
      "Total number of locations          :  5\n",
      " --------------------------------- \n",
      "Aggregating by company\n",
      "Aggregating by title\n",
      "Data exercise completed\n"
     ]
    }
   ],
   "source": [
    "df, df_company_aggregates, df_job_title_aggregates = fetch_preprocess_data()"
   ]
  },
  {
   "cell_type": "code",
   "execution_count": 10,
   "id": "61275cea",
   "metadata": {},
   "outputs": [
    {
     "data": {
      "text/plain": [
       "62566"
      ]
     },
     "execution_count": 10,
     "metadata": {},
     "output_type": "execute_result"
    }
   ],
   "source": [
    "round(df['Tot_sal'][df['Company Name_preprocessed'] == 'IBM'].sum() / df['Salaries Reported'][df['Company Name_preprocessed'] == 'IBM'].sum())"
   ]
  },
  {
   "cell_type": "code",
   "execution_count": 11,
   "id": "d7cae9d6",
   "metadata": {},
   "outputs": [
    {
     "data": {
      "text/plain": [
       "19207611"
      ]
     },
     "execution_count": 11,
     "metadata": {},
     "output_type": "execute_result"
    }
   ],
   "source": [
    "df['Tot_sal'][df['Company Name_preprocessed'] == 'IBM'].sum()"
   ]
  },
  {
   "cell_type": "code",
   "execution_count": 14,
   "id": "23ea8e10",
   "metadata": {},
   "outputs": [
    {
     "data": {
      "text/plain": [
       "62565.50814332248"
      ]
     },
     "execution_count": 14,
     "metadata": {},
     "output_type": "execute_result"
    }
   ],
   "source": [
    "19207611 / 307"
   ]
  },
  {
   "cell_type": "code",
   "execution_count": 13,
   "id": "82834eee",
   "metadata": {},
   "outputs": [
    {
     "data": {
      "text/plain": [
       "307.0"
      ]
     },
     "execution_count": 13,
     "metadata": {},
     "output_type": "execute_result"
    }
   ],
   "source": [
    "df['Salaries Reported'][df['Company Name_preprocessed'] == 'IBM'].sum()"
   ]
  },
  {
   "cell_type": "code",
   "execution_count": 16,
   "id": "1093b1f0",
   "metadata": {},
   "outputs": [
    {
     "data": {
      "text/html": [
       "<div>\n",
       "<style scoped>\n",
       "    .dataframe tbody tr th:only-of-type {\n",
       "        vertical-align: middle;\n",
       "    }\n",
       "\n",
       "    .dataframe tbody tr th {\n",
       "        vertical-align: top;\n",
       "    }\n",
       "\n",
       "    .dataframe thead th {\n",
       "        text-align: right;\n",
       "    }\n",
       "</style>\n",
       "<table border=\"1\" class=\"dataframe\">\n",
       "  <thead>\n",
       "    <tr style=\"text-align: right;\">\n",
       "      <th></th>\n",
       "      <th>Tot_sal</th>\n",
       "      <th>Salaries Reported</th>\n",
       "    </tr>\n",
       "  </thead>\n",
       "  <tbody>\n",
       "    <tr>\n",
       "      <th>1</th>\n",
       "      <td>1191950</td>\n",
       "      <td>95.0</td>\n",
       "    </tr>\n",
       "    <tr>\n",
       "      <th>95</th>\n",
       "      <td>395436</td>\n",
       "      <td>4.0</td>\n",
       "    </tr>\n",
       "    <tr>\n",
       "      <th>361</th>\n",
       "      <td>803916</td>\n",
       "      <td>1.0</td>\n",
       "    </tr>\n",
       "    <tr>\n",
       "      <th>644</th>\n",
       "      <td>1203913</td>\n",
       "      <td>1.0</td>\n",
       "    </tr>\n",
       "    <tr>\n",
       "      <th>877</th>\n",
       "      <td>502448</td>\n",
       "      <td>1.0</td>\n",
       "    </tr>\n",
       "    <tr>\n",
       "      <th>984</th>\n",
       "      <td>1036536</td>\n",
       "      <td>11.0</td>\n",
       "    </tr>\n",
       "    <tr>\n",
       "      <th>1365</th>\n",
       "      <td>628945</td>\n",
       "      <td>9.0</td>\n",
       "    </tr>\n",
       "    <tr>\n",
       "      <th>1558</th>\n",
       "      <td>916284</td>\n",
       "      <td>21.0</td>\n",
       "    </tr>\n",
       "    <tr>\n",
       "      <th>1695</th>\n",
       "      <td>602930</td>\n",
       "      <td>1.0</td>\n",
       "    </tr>\n",
       "    <tr>\n",
       "      <th>1779</th>\n",
       "      <td>1193120</td>\n",
       "      <td>3.0</td>\n",
       "    </tr>\n",
       "    <tr>\n",
       "      <th>1839</th>\n",
       "      <td>702485</td>\n",
       "      <td>1.0</td>\n",
       "    </tr>\n",
       "    <tr>\n",
       "      <th>1949</th>\n",
       "      <td>588369</td>\n",
       "      <td>31.0</td>\n",
       "    </tr>\n",
       "    <tr>\n",
       "      <th>2196</th>\n",
       "      <td>466187</td>\n",
       "      <td>3.0</td>\n",
       "    </tr>\n",
       "    <tr>\n",
       "      <th>2267</th>\n",
       "      <td>1007334</td>\n",
       "      <td>1.0</td>\n",
       "    </tr>\n",
       "    <tr>\n",
       "      <th>2348</th>\n",
       "      <td>513986</td>\n",
       "      <td>12.0</td>\n",
       "    </tr>\n",
       "    <tr>\n",
       "      <th>2546</th>\n",
       "      <td>521474</td>\n",
       "      <td>15.0</td>\n",
       "    </tr>\n",
       "    <tr>\n",
       "      <th>2855</th>\n",
       "      <td>998289</td>\n",
       "      <td>2.0</td>\n",
       "    </tr>\n",
       "    <tr>\n",
       "      <th>2928</th>\n",
       "      <td>816692</td>\n",
       "      <td>46.0</td>\n",
       "    </tr>\n",
       "    <tr>\n",
       "      <th>2996</th>\n",
       "      <td>1000000</td>\n",
       "      <td>3.0</td>\n",
       "    </tr>\n",
       "    <tr>\n",
       "      <th>3127</th>\n",
       "      <td>719166</td>\n",
       "      <td>21.0</td>\n",
       "    </tr>\n",
       "    <tr>\n",
       "      <th>3156</th>\n",
       "      <td>589439</td>\n",
       "      <td>2.0</td>\n",
       "    </tr>\n",
       "    <tr>\n",
       "      <th>3285</th>\n",
       "      <td>504488</td>\n",
       "      <td>8.0</td>\n",
       "    </tr>\n",
       "    <tr>\n",
       "      <th>3336</th>\n",
       "      <td>564654</td>\n",
       "      <td>1.0</td>\n",
       "    </tr>\n",
       "    <tr>\n",
       "      <th>3437</th>\n",
       "      <td>120000</td>\n",
       "      <td>1.0</td>\n",
       "    </tr>\n",
       "    <tr>\n",
       "      <th>3440</th>\n",
       "      <td>601475</td>\n",
       "      <td>10.0</td>\n",
       "    </tr>\n",
       "    <tr>\n",
       "      <th>3610</th>\n",
       "      <td>1018095</td>\n",
       "      <td>3.0</td>\n",
       "    </tr>\n",
       "  </tbody>\n",
       "</table>\n",
       "</div>"
      ],
      "text/plain": [
       "      Tot_sal  Salaries Reported\n",
       "1     1191950               95.0\n",
       "95     395436                4.0\n",
       "361    803916                1.0\n",
       "644   1203913                1.0\n",
       "877    502448                1.0\n",
       "984   1036536               11.0\n",
       "1365   628945                9.0\n",
       "1558   916284               21.0\n",
       "1695   602930                1.0\n",
       "1779  1193120                3.0\n",
       "1839   702485                1.0\n",
       "1949   588369               31.0\n",
       "2196   466187                3.0\n",
       "2267  1007334                1.0\n",
       "2348   513986               12.0\n",
       "2546   521474               15.0\n",
       "2855   998289                2.0\n",
       "2928   816692               46.0\n",
       "2996  1000000                3.0\n",
       "3127   719166               21.0\n",
       "3156   589439                2.0\n",
       "3285   504488                8.0\n",
       "3336   564654                1.0\n",
       "3437   120000                1.0\n",
       "3440   601475               10.0\n",
       "3610  1018095                3.0"
      ]
     },
     "execution_count": 16,
     "metadata": {},
     "output_type": "execute_result"
    }
   ],
   "source": [
    "df[['Tot_sal','Salaries Reported']][df['Company Name_preprocessed'] == 'IBM']"
   ]
  }
 ],
 "metadata": {
  "kernelspec": {
   "display_name": "Python 3 (ipykernel)",
   "language": "python",
   "name": "python3"
  },
  "language_info": {
   "codemirror_mode": {
    "name": "ipython",
    "version": 3
   },
   "file_extension": ".py",
   "mimetype": "text/x-python",
   "name": "python",
   "nbconvert_exporter": "python",
   "pygments_lexer": "ipython3",
   "version": "3.9.7"
  }
 },
 "nbformat": 4,
 "nbformat_minor": 5
}
